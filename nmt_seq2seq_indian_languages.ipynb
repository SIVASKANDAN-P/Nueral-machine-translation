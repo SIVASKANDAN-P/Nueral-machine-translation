{
  "nbformat": 4,
  "nbformat_minor": 0,
  "metadata": {
    "colab": {
      "provenance": [],
      "collapsed_sections": [
        "dEniteeTHbjH",
        "aZAFPeCr66Wm",
        "5Tgoxk2BcdBy",
        "y_rAhbB7GlIq"
      ],
      "include_colab_link": true
    },
    "kernelspec": {
      "display_name": "Python 3",
      "language": "python",
      "name": "python3"
    },
    "language_info": {
      "codemirror_mode": {
        "name": "ipython",
        "version": 3
      },
      "file_extension": ".py",
      "mimetype": "text/x-python",
      "name": "python",
      "nbconvert_exporter": "python",
      "pygments_lexer": "ipython3",
      "version": "3.6.4"
    },
    "accelerator": "GPU",
    "gpuClass": "standard"
  },
  "cells": [
    {
      "cell_type": "markdown",
      "metadata": {
        "id": "view-in-github",
        "colab_type": "text"
      },
      "source": [
        "<a href=\"https://colab.research.google.com/github/SIVASKANDAN-P/Nueral-machine-translation/blob/main/nmt_seq2seq_indian_languages.ipynb\" target=\"_parent\"><img src=\"https://colab.research.google.com/assets/colab-badge.svg\" alt=\"Open In Colab\"/></a>"
      ]
    },
    {
      "cell_type": "markdown",
      "metadata": {
        "id": "6YZol8iJCto-"
      },
      "source": [
        "# **Library and Dataset Import**\n",
        "\n",
        "The examples uses tensorflow2.x for NLP Modelling.\n",
        "\n",
        "The indic-nlp-library is used for tokenization.\n",
        "\n",
        "Dataset used is for English Hindi translation, however can be easily adopted for 10 other major Indian language as available [here](http://lotus.kuee.kyoto-u.ac.jp/WAT/indic-multilingual/) or for any other language pair (adopt as per the tensorflow tutorial references provided below)."
      ]
    },
    {
      "cell_type": "code",
      "metadata": {
        "id": "jO8KYb6yYphB",
        "colab": {
          "base_uri": "https://localhost:8080/"
        },
        "outputId": "e5444929-8997-41a6-e1f4-9a2892cdeacb"
      },
      "source": [
        "import tensorflow as tf\n",
        "from sklearn.model_selection import train_test_split\n",
        "import unicodedata\n",
        "import re\n",
        "import numpy as np\n",
        "import os\n",
        "import io\n",
        "import time\n",
        "!pip3 install indic-nlp-library"
      ],
      "execution_count": 1,
      "outputs": [
        {
          "output_type": "stream",
          "name": "stdout",
          "text": [
            "Collecting indic-nlp-library\n",
            "  Downloading indic_nlp_library-0.92-py3-none-any.whl (40 kB)\n",
            "\u001b[?25l     \u001b[90m━━━━━━━━━━━━━━━━━━━━━━━━━━━━━━━━━━━━━━━━\u001b[0m \u001b[32m0.0/40.3 kB\u001b[0m \u001b[31m?\u001b[0m eta \u001b[36m-:--:--\u001b[0m\r\u001b[2K     \u001b[90m━━━━━━━━━━━━━━━━━━━━━━━━━━━━━━━━━━━━━━━━\u001b[0m \u001b[32m40.3/40.3 kB\u001b[0m \u001b[31m1.3 MB/s\u001b[0m eta \u001b[36m0:00:00\u001b[0m\n",
            "\u001b[?25hCollecting sphinx-argparse (from indic-nlp-library)\n",
            "  Downloading sphinx_argparse-0.4.0-py3-none-any.whl (12 kB)\n",
            "Collecting sphinx-rtd-theme (from indic-nlp-library)\n",
            "  Downloading sphinx_rtd_theme-2.0.0-py2.py3-none-any.whl (2.8 MB)\n",
            "\u001b[2K     \u001b[90m━━━━━━━━━━━━━━━━━━━━━━━━━━━━━━━━━━━━━━━━\u001b[0m \u001b[32m2.8/2.8 MB\u001b[0m \u001b[31m12.3 MB/s\u001b[0m eta \u001b[36m0:00:00\u001b[0m\n",
            "\u001b[?25hCollecting morfessor (from indic-nlp-library)\n",
            "  Downloading Morfessor-2.0.6-py3-none-any.whl (35 kB)\n",
            "Requirement already satisfied: pandas in /usr/local/lib/python3.10/dist-packages (from indic-nlp-library) (1.5.3)\n",
            "Requirement already satisfied: numpy in /usr/local/lib/python3.10/dist-packages (from indic-nlp-library) (1.23.5)\n",
            "Requirement already satisfied: python-dateutil>=2.8.1 in /usr/local/lib/python3.10/dist-packages (from pandas->indic-nlp-library) (2.8.2)\n",
            "Requirement already satisfied: pytz>=2020.1 in /usr/local/lib/python3.10/dist-packages (from pandas->indic-nlp-library) (2023.3.post1)\n",
            "Requirement already satisfied: sphinx>=1.2.0 in /usr/local/lib/python3.10/dist-packages (from sphinx-argparse->indic-nlp-library) (5.0.2)\n",
            "Requirement already satisfied: docutils<0.21 in /usr/local/lib/python3.10/dist-packages (from sphinx-rtd-theme->indic-nlp-library) (0.18.1)\n",
            "Collecting sphinxcontrib-jquery<5,>=4 (from sphinx-rtd-theme->indic-nlp-library)\n",
            "  Downloading sphinxcontrib_jquery-4.1-py2.py3-none-any.whl (121 kB)\n",
            "\u001b[2K     \u001b[90m━━━━━━━━━━━━━━━━━━━━━━━━━━━━━━━━━━━━━━━━\u001b[0m \u001b[32m121.1/121.1 kB\u001b[0m \u001b[31m13.0 MB/s\u001b[0m eta \u001b[36m0:00:00\u001b[0m\n",
            "\u001b[?25hRequirement already satisfied: six>=1.5 in /usr/local/lib/python3.10/dist-packages (from python-dateutil>=2.8.1->pandas->indic-nlp-library) (1.16.0)\n",
            "Requirement already satisfied: sphinxcontrib-applehelp in /usr/local/lib/python3.10/dist-packages (from sphinx>=1.2.0->sphinx-argparse->indic-nlp-library) (1.0.7)\n",
            "Requirement already satisfied: sphinxcontrib-devhelp in /usr/local/lib/python3.10/dist-packages (from sphinx>=1.2.0->sphinx-argparse->indic-nlp-library) (1.0.5)\n",
            "Requirement already satisfied: sphinxcontrib-jsmath in /usr/local/lib/python3.10/dist-packages (from sphinx>=1.2.0->sphinx-argparse->indic-nlp-library) (1.0.1)\n",
            "Requirement already satisfied: sphinxcontrib-htmlhelp>=2.0.0 in /usr/local/lib/python3.10/dist-packages (from sphinx>=1.2.0->sphinx-argparse->indic-nlp-library) (2.0.4)\n",
            "Requirement already satisfied: sphinxcontrib-serializinghtml>=1.1.5 in /usr/local/lib/python3.10/dist-packages (from sphinx>=1.2.0->sphinx-argparse->indic-nlp-library) (1.1.9)\n",
            "Requirement already satisfied: sphinxcontrib-qthelp in /usr/local/lib/python3.10/dist-packages (from sphinx>=1.2.0->sphinx-argparse->indic-nlp-library) (1.0.6)\n",
            "Requirement already satisfied: Jinja2>=2.3 in /usr/local/lib/python3.10/dist-packages (from sphinx>=1.2.0->sphinx-argparse->indic-nlp-library) (3.1.3)\n",
            "Requirement already satisfied: Pygments>=2.0 in /usr/local/lib/python3.10/dist-packages (from sphinx>=1.2.0->sphinx-argparse->indic-nlp-library) (2.16.1)\n",
            "Requirement already satisfied: snowballstemmer>=1.1 in /usr/local/lib/python3.10/dist-packages (from sphinx>=1.2.0->sphinx-argparse->indic-nlp-library) (2.2.0)\n",
            "Requirement already satisfied: babel>=1.3 in /usr/local/lib/python3.10/dist-packages (from sphinx>=1.2.0->sphinx-argparse->indic-nlp-library) (2.14.0)\n",
            "Requirement already satisfied: alabaster<0.8,>=0.7 in /usr/local/lib/python3.10/dist-packages (from sphinx>=1.2.0->sphinx-argparse->indic-nlp-library) (0.7.16)\n",
            "Requirement already satisfied: imagesize in /usr/local/lib/python3.10/dist-packages (from sphinx>=1.2.0->sphinx-argparse->indic-nlp-library) (1.4.1)\n",
            "Requirement already satisfied: requests>=2.5.0 in /usr/local/lib/python3.10/dist-packages (from sphinx>=1.2.0->sphinx-argparse->indic-nlp-library) (2.31.0)\n",
            "Requirement already satisfied: packaging in /usr/local/lib/python3.10/dist-packages (from sphinx>=1.2.0->sphinx-argparse->indic-nlp-library) (23.2)\n",
            "Requirement already satisfied: MarkupSafe>=2.0 in /usr/local/lib/python3.10/dist-packages (from Jinja2>=2.3->sphinx>=1.2.0->sphinx-argparse->indic-nlp-library) (2.1.3)\n",
            "Requirement already satisfied: charset-normalizer<4,>=2 in /usr/local/lib/python3.10/dist-packages (from requests>=2.5.0->sphinx>=1.2.0->sphinx-argparse->indic-nlp-library) (3.3.2)\n",
            "Requirement already satisfied: idna<4,>=2.5 in /usr/local/lib/python3.10/dist-packages (from requests>=2.5.0->sphinx>=1.2.0->sphinx-argparse->indic-nlp-library) (3.6)\n",
            "Requirement already satisfied: urllib3<3,>=1.21.1 in /usr/local/lib/python3.10/dist-packages (from requests>=2.5.0->sphinx>=1.2.0->sphinx-argparse->indic-nlp-library) (2.0.7)\n",
            "Requirement already satisfied: certifi>=2017.4.17 in /usr/local/lib/python3.10/dist-packages (from requests>=2.5.0->sphinx>=1.2.0->sphinx-argparse->indic-nlp-library) (2023.11.17)\n",
            "Installing collected packages: morfessor, sphinxcontrib-jquery, sphinx-rtd-theme, sphinx-argparse, indic-nlp-library\n",
            "Successfully installed indic-nlp-library-0.92 morfessor-2.0.6 sphinx-argparse-0.4.0 sphinx-rtd-theme-2.0.0 sphinxcontrib-jquery-4.1\n"
          ]
        }
      ]
    },
    {
      "cell_type": "code",
      "metadata": {
        "id": "qouiinSUbKUd",
        "colab": {
          "base_uri": "https://localhost:8080/"
        },
        "outputId": "425b35c1-8194-4bad-cad9-2c9a2f89f98c"
      },
      "source": [
        "!wget \"http://lotus.kuee.kyoto-u.ac.jp/WAT/indic-multilingual/indic_languages_corpus.tar.gz\""
      ],
      "execution_count": 2,
      "outputs": [
        {
          "output_type": "stream",
          "name": "stdout",
          "text": [
            "--2024-01-17 11:38:57--  http://lotus.kuee.kyoto-u.ac.jp/WAT/indic-multilingual/indic_languages_corpus.tar.gz\n",
            "Resolving lotus.kuee.kyoto-u.ac.jp (lotus.kuee.kyoto-u.ac.jp)... 130.54.208.131\n",
            "Connecting to lotus.kuee.kyoto-u.ac.jp (lotus.kuee.kyoto-u.ac.jp)|130.54.208.131|:80... connected.\n",
            "HTTP request sent, awaiting response... 200 OK\n",
            "Length: 132762852 (127M) [application/x-gzip]\n",
            "Saving to: ‘indic_languages_corpus.tar.gz’\n",
            "\n",
            "indic_languages_cor 100%[===================>] 126.61M  12.7MB/s    in 12s     \n",
            "\n",
            "2024-01-17 11:39:10 (10.5 MB/s) - ‘indic_languages_corpus.tar.gz’ saved [132762852/132762852]\n",
            "\n"
          ]
        }
      ]
    },
    {
      "cell_type": "code",
      "metadata": {
        "colab": {
          "base_uri": "https://localhost:8080/"
        },
        "id": "d4AxU0WlbZSx",
        "outputId": "82546cfc-01e2-42ee-a4f7-1765490c8b81"
      },
      "source": [
        "import tarfile\n",
        "with tarfile.open('indic_languages_corpus.tar.gz', 'r:gz') as tar:\n",
        "    tar.extractall()\n",
        "print(\"done!\")"
      ],
      "execution_count": 3,
      "outputs": [
        {
          "output_type": "stream",
          "name": "stdout",
          "text": [
            "done!\n"
          ]
        }
      ]
    },
    {
      "cell_type": "code",
      "source": [
        "# Copy Tamil-English files to the current directory\n",
        "%cp indic_languages_corpus/bilingual/ta-en/* .\n",
        "\n",
        "# Clean up to avoid storing unnecessary files in the session\n",
        "#%rm -r indic_languages_corpus indic_languages_corpus.tar.gz"
      ],
      "metadata": {
        "id": "8zcJCErM8u4o"
      },
      "execution_count": 14,
      "outputs": []
    },
    {
      "cell_type": "code",
      "source": [
        "# Clean up to avoid storing unnecessary files in the session\n",
        "%rm -r indic_languages_corpus indic_languages_corpus.tar.gz"
      ],
      "metadata": {
        "id": "G0wdeWWaN5DQ"
      },
      "execution_count": null,
      "outputs": []
    },
    {
      "cell_type": "code",
      "source": [
        "%ls indic_languages_corpus"
      ],
      "metadata": {
        "id": "Bg9T9QJF8AnL",
        "outputId": "728db809-e841-4a40-d6ea-343ca484a231",
        "colab": {
          "base_uri": "https://localhost:8080/"
        }
      },
      "execution_count": 9,
      "outputs": [
        {
          "output_type": "stream",
          "name": "stdout",
          "text": [
            "ls: cannot access 'indic_languages_corpus': No such file or directory\n"
          ]
        }
      ]
    },
    {
      "cell_type": "code",
      "metadata": {
        "id": "So4-SXJYbtMt",
        "colab": {
          "base_uri": "https://localhost:8080/"
        },
        "outputId": "9de60884-69ad-497f-9ff0-96c0508f1a12"
      },
      "source": [
        "#We copy the Hindi to English files for working in this example (dev.en, dev.hi, test.en, test.hi and train.en, train.hi)\n",
        "%cp indic_languages_corpus/bilingual/hi-en/-en/* .\n",
        "#Clean up to avoid storing these files in the session\n",
        "%rm -r indic_languages_corpus indic_languages_corpus.tar.gz"
      ],
      "execution_count": 8,
      "outputs": [
        {
          "output_type": "stream",
          "name": "stdout",
          "text": [
            "cp: cannot stat 'indic_languages_corpus/bilingual/hi-en/-en/*': No such file or directory\n",
            "rm: cannot remove 'indic_languages_corpus': No such file or directory\n",
            "rm: cannot remove 'indic_languages_corpus.tar.gz': No such file or directory\n"
          ]
        }
      ]
    },
    {
      "cell_type": "code",
      "metadata": {
        "id": "0h_y0wbzcxSs",
        "colab": {
          "base_uri": "https://localhost:8080/"
        },
        "outputId": "259e9b34-83f9-4b1e-fc11-a364b74bd65a"
      },
      "source": [
        "# understanding how the training data looks like\n",
        "f = open('train.ta',encoding=\"utf8\")\n",
        "w1 = f.readlines()\n",
        "print(len(w1))\n",
        "print(w1[0:5])\n",
        "g = open('train.en',encoding=\"utf8\")\n",
        "w2 = g.readlines()\n",
        "print(len(w2))\n",
        "print(w2[0:5])"
      ],
      "execution_count": 15,
      "outputs": [
        {
          "output_type": "stream",
          "name": "stdout",
          "text": [
            "26217\n",
            "['நாம் எங்கே போகிறோம் என்று.\\n', 'அவர்கள் terraforming.\\n', 'நீங்கள் சார்லஸ்டன் என்னை கிடைக்கும் துடைக்க வேண்டும்.\\n', '- இல்லை, அவர் என் அப்பா இல்லை.\\n', 'நான் ஞாயிறுகளில் அவளை நாம் மற்ற கூறினார்.\\n']\n",
            "26217\n",
            "[\"That's where we're going.\\n\", \"They're terraforming.\\n\", 'You gotta get me to Charleston.\\n', \"- NO, HE'S NOT MY DAD.\\n\", 'I told her we rest on Sundays.\\n']\n"
          ]
        }
      ]
    },
    {
      "cell_type": "markdown",
      "metadata": {
        "id": "sL_IvHeamlhc"
      },
      "source": [
        "# **Data Preperation**\n",
        "\n",
        "Once we have loaded the dataset, we preprocess the data as follows:\n",
        "\n",
        "Add a start and end token to each sentence.\n",
        "\n",
        "Clean the sentences by removing special characters.\n",
        "\n",
        "Create a word index and reverse word index (dictionaries mapping from word → id and id → word).\n",
        "\n",
        "Pad each sentence to a maximum length."
      ]
    },
    {
      "cell_type": "code",
      "metadata": {
        "id": "WLiTegnlgyvx"
      },
      "source": [
        "# Restrict the total number of sentences to 70000\n",
        "NUM_SENTENCES = 70000"
      ],
      "execution_count": 16,
      "outputs": []
    },
    {
      "cell_type": "code",
      "metadata": {
        "colab": {
          "base_uri": "https://localhost:8080/"
        },
        "id": "gmsVNqzYdjxo",
        "outputId": "c720564d-7b84-4b48-f409-fcf046450d5d"
      },
      "source": [
        "# strip the input and output of extra unnecessary characters\n",
        "# store all the cleaned input and output sentences into input_sentences[] and output_sentences[]\n",
        "# tokenize the Hindi (target) sentences using the indicNLP libary class and add <sos> (start-of-sentence) and <eos> (end-of-sentence)\n",
        "\n",
        "input_sentences = []\n",
        "output_sentences = []\n",
        "\n",
        "count = 0\n",
        "for line in open(r'train.en', encoding=\"utf-8\"):\n",
        "    count += 1\n",
        "\n",
        "    if count > NUM_SENTENCES:\n",
        "        break\n",
        "\n",
        "    input_sentence = line.rstrip().strip(\"\\n\").strip('-') #we strip the sentence of '\\n' and '-'\n",
        "    input_sentences.append(input_sentence) #store all input sentences in the input sentences list\n",
        "\n",
        "count = 0\n",
        "\n",
        "for line in open(r'train.ta'):\n",
        "    count += 1\n",
        "\n",
        "    if count > NUM_SENTENCES:\n",
        "        break\n",
        "    output_sentence =  line.rstrip().strip(\"\\n\").strip('-')\n",
        "    from indicnlp.tokenize import indic_tokenize\n",
        "    line = indic_tokenize.trivial_tokenize(output_sentence) #we tokenize the hindi sentences\n",
        "\n",
        "    output_sentences.append(['<sos>'] + line + ['<eos>']) #append the start and end tags to the tokenised sentences\n",
        "                                                          #each tokenied sentence is stored as a list in output sentences\n",
        "print(type(input_sentences[9]))\n",
        "print(type(output_sentences[9]))"
      ],
      "execution_count": 18,
      "outputs": [
        {
          "output_type": "stream",
          "name": "stdout",
          "text": [
            "<class 'str'>\n",
            "<class 'list'>\n"
          ]
        }
      ]
    },
    {
      "cell_type": "code",
      "source": [
        "output_sentences[9]"
      ],
      "metadata": {
        "colab": {
          "base_uri": "https://localhost:8080/"
        },
        "id": "GYwQCGjNg6zu",
        "outputId": "3d5af63d-9ee1-4573-c685-655ac305a0f5"
      },
      "execution_count": 19,
      "outputs": [
        {
          "output_type": "execute_result",
          "data": {
            "text/plain": [
              "['<sos>',\n",
              " 'நான்',\n",
              " 'யோசிக்காமல்',\n",
              " 'விளையாட்டுகளில்',\n",
              " 'அதிகம்',\n",
              " 'இல்லை',\n",
              " '.',\n",
              " '<eos>']"
            ]
          },
          "metadata": {},
          "execution_count": 19
        }
      ]
    },
    {
      "cell_type": "code",
      "metadata": {
        "colab": {
          "base_uri": "https://localhost:8080/"
        },
        "id": "k2kB9RH2fBE0",
        "outputId": "920f1662-0a16-4bf7-bf0e-4cd80a4a20b6"
      },
      "source": [
        "print(\"num samples input:\", len(input_sentences))\n",
        "print(\"num samples output:\", len(output_sentences))"
      ],
      "execution_count": 20,
      "outputs": [
        {
          "output_type": "stream",
          "name": "stdout",
          "text": [
            "num samples input: 26217\n",
            "num samples output: 26217\n"
          ]
        }
      ]
    },
    {
      "cell_type": "code",
      "metadata": {
        "colab": {
          "base_uri": "https://localhost:8080/"
        },
        "id": "DkMgkiSnhIQE",
        "outputId": "5836cb4e-1743-41f7-e065-3ea50f8a58a6"
      },
      "source": [
        "print(input_sentences[-1])\n",
        "print(output_sentences[-1])"
      ],
      "execution_count": 21,
      "outputs": [
        {
          "output_type": "stream",
          "name": "stdout",
          "text": [
            " See ya.\n",
            "['<sos>', 'மீண்டும்', 'பார்ப்போம்', '.', '<eos>']\n"
          ]
        }
      ]
    },
    {
      "cell_type": "code",
      "metadata": {
        "id": "z_PsNxfbSvle"
      },
      "source": [
        "# Converts the unicode file to ascii\n",
        "# Since the model is dealing with multilingual text so it will be important to standardize the input text.\n",
        "# Unicode normalization splits accented characters and replace compatibility characters with their ASCII equivalents.\n",
        "# https://bit.ly/2TnLffX\n",
        "def unicode_to_ascii(s):\n",
        "  return ''.join(c for c in unicodedata.normalize('NFD', s)\n",
        "      if unicodedata.category(c) != 'Mn')\n",
        "\n",
        "\n",
        "def preprocess_sentence(w):\n",
        "  w = unicode_to_ascii(w.lower().strip())\n",
        "\n",
        "  # creating a space between a word and the punctuation following it\n",
        "  # eg: \"he is a boy.\" => \"he is a boy .\"\n",
        "\n",
        "  w = re.sub(r\"([?.!,¿])\", r\" \\1 \", w)\n",
        "  w = re.sub(r'[\" \"]+', \" \", w)\n",
        "\n",
        "  # replacing everything with space except (a-z, A-Z, \".\", \"?\", \"!\", \",\")\n",
        "  w = re.sub(r\"[^a-zA-Z?.!,¿]+\", \" \", w)\n",
        "\n",
        "  w = w.strip()\n",
        "\n",
        "  # adding a start and an end token to the sentence\n",
        "  # so that the model know when to start and stop predicting.\n",
        "  w = '<sos> ' + w + ' <eos>'\n",
        "  return w"
      ],
      "execution_count": 22,
      "outputs": []
    },
    {
      "cell_type": "code",
      "metadata": {
        "colab": {
          "base_uri": "https://localhost:8080/"
        },
        "id": "3NTM7NQ_R8fT",
        "outputId": "ec116314-b81a-4437-9368-ea4f6cbbc3eb"
      },
      "source": [
        "for i in range(len(input_sentences)):\n",
        "   input_sentences[i] = preprocess_sentence(input_sentences[i])\n",
        "\n",
        "print(input_sentences[8])\n",
        "print(output_sentences[8])"
      ],
      "execution_count": 23,
      "outputs": [
        {
          "output_type": "stream",
          "name": "stdout",
          "text": [
            "<sos> it just . . . <eos>\n",
            "['<sos>', 'அது', '.', '.', '.', '<eos>']\n"
          ]
        }
      ]
    },
    {
      "cell_type": "code",
      "metadata": {
        "id": "OM3aEpCUhxh7"
      },
      "source": [
        "# function to tokenize, fit the words into numeric sequences and pad them with zeroes up to the size of the largest sentence of that vocabulary\n",
        "# takes as input the input / output vocabulary and the padding type ('pre' / 'post'-- default: post)\n",
        "\n",
        "# inp_lang and targ_lang is of type tokenizer.fit_on_texts;\n",
        "# fit_on_texts of Tokenizer class updates internal vocabulary based on a list of texts.\n",
        "# This method creates the vocabulary index based on word frequency.\n",
        "# Lower integer means more frequent word (often the first few are stop words because they appear a lot).\n",
        "\n",
        "def sample_function(lang):\n",
        "  lang_tokenizer = tf.keras.preprocessing.text.Tokenizer(\n",
        "      filters='')\n",
        "\n",
        "  lang_tokenizer.fit_on_texts(lang)\n",
        "\n",
        "  tensor = lang_tokenizer.texts_to_sequences(lang)\n",
        "\n",
        "  tensor = tf.keras.preprocessing.sequence.pad_sequences(tensor)\n",
        "  return tensor, lang_tokenizer"
      ],
      "execution_count": 24,
      "outputs": []
    },
    {
      "cell_type": "code",
      "metadata": {
        "id": "cgsojarlh81H"
      },
      "source": [
        "# function to call the tokenize function to perform tokenizing and padding\n",
        "\n",
        "def load_dataset(inp_lang, targ_lang):\n",
        "  # creating cleaned input, output pairs\n",
        "  input_tensor, inp_lang_tokenizer = sample_function(inp_lang)\n",
        "  target_tensor, targ_lang_tokenizer = sample_function(targ_lang)\n",
        "\n",
        "  return input_tensor, target_tensor, inp_lang_tokenizer, targ_lang_tokenizer"
      ],
      "execution_count": 25,
      "outputs": []
    },
    {
      "cell_type": "code",
      "metadata": {
        "colab": {
          "base_uri": "https://localhost:8080/"
        },
        "id": "0FxxPJYFi3cX",
        "outputId": "86eac2fe-977b-4a43-bdd1-0f050241c484"
      },
      "source": [
        "input_tensor, target_tensor, inp_lang, targ_lang = load_dataset(input_sentences, output_sentences)\n",
        "\n",
        "# Calculate max_length of the target tensors\n",
        "# For our project, the max_length_targ and max_length_inp are 69 and 72 respectively.\n",
        "\n",
        "max_length_targ, max_length_inp = target_tensor.shape[1], input_tensor.shape[1]\n",
        "print(max_length_targ)\n",
        "print(max_length_inp)"
      ],
      "execution_count": 26,
      "outputs": [
        {
          "output_type": "stream",
          "name": "stdout",
          "text": [
            "33\n",
            "58\n"
          ]
        }
      ]
    },
    {
      "cell_type": "code",
      "metadata": {
        "colab": {
          "base_uri": "https://localhost:8080/"
        },
        "id": "blHpIh2WTR7M",
        "outputId": "7b4abe01-9c5d-4333-ea27-82dca615c814"
      },
      "source": [
        "# checking if the input sequences have been obtained and padded properly\n",
        "print(target_tensor[9])\n",
        "print(input_tensor[9])"
      ],
      "execution_count": 27,
      "outputs": [
        {
          "output_type": "stream",
          "name": "stdout",
          "text": [
            "[   0    0    0    0    0    0    0    0    0    0    0    0    0    0\n",
            "    0    0    0    0    0    0    0    0    0    0    0    1    5 4556\n",
            " 7232  649   10    3    2]\n",
            "[   0    0    0    0    0    0    0    0    0    0    0    0    0    0\n",
            "    0    0    0    0    0    0    0    0    0    0    0    0    0    0\n",
            "    0    0    0    0    0    0    0    0    0    0    0    0    0    0\n",
            "    0    0    0    0    0    0    1    6  191   14  131   69 3726 1659\n",
            "    3    2]\n"
          ]
        }
      ]
    },
    {
      "cell_type": "code",
      "metadata": {
        "colab": {
          "base_uri": "https://localhost:8080/"
        },
        "id": "ao4xP-xckEhE",
        "outputId": "57109694-3294-4ed1-d329-97bbc29e60a0"
      },
      "source": [
        "# Creating training and validation sets using an 80-20 split\n",
        "input_tensor_train, input_tensor_val, target_tensor_train, target_tensor_val = train_test_split(input_tensor, target_tensor, test_size=0.2,random_state=7)\n",
        "\n",
        "# Show length\n",
        "print(len(input_tensor_train), len(target_tensor_train), len(input_tensor_val), len(target_tensor_val))"
      ],
      "execution_count": 28,
      "outputs": [
        {
          "output_type": "stream",
          "name": "stdout",
          "text": [
            "20973 20973 5244 5244\n"
          ]
        }
      ]
    },
    {
      "cell_type": "code",
      "metadata": {
        "colab": {
          "base_uri": "https://localhost:8080/"
        },
        "id": "E2gSXFB7DNI9",
        "outputId": "9825154d-5b38-4a34-f138-86ad14cc726b"
      },
      "source": [
        "# checking if the input sequences have been obtained and padded properly\n",
        "print(input_tensor_val[9])\n",
        "print(target_tensor_val[9])"
      ],
      "execution_count": 29,
      "outputs": [
        {
          "output_type": "stream",
          "name": "stdout",
          "text": [
            "[  0   0   0   0   0   0   0   0   0   0   0   0   0   0   0   0   0   0\n",
            "   0   0   0   0   0   0   0   0   0   0   0   0   0   0   0   0   0   0\n",
            "   0   0   0   0   0   0   0   0   0   0   0   1  45  28  33   4 380  16\n",
            "  28  33   3   2]\n",
            "[  0   0   0   0   0   0   0   0   0   0   0   0   0   0   0   0   0   0\n",
            "   0   0   0   0   0   1  42  10   4 233  32   4  10   3   2]\n"
          ]
        }
      ]
    },
    {
      "cell_type": "code",
      "metadata": {
        "id": "yy0Z2a0bl9QB"
      },
      "source": [
        "# a function to test if the word to index / index to word mappings have been obtained correctly.\n",
        "# representative output for two sample english and hindi sentences given in the code block below\n",
        "\n",
        "def convert(lang, tensor):\n",
        "  for t in tensor:\n",
        "    if t!=0:\n",
        "      print (\"%d ----> %s\" % (t, lang.index_word[t]))\n",
        "      print (\"%s ----> %d\" % (lang.index_word[t], lang.word_index[lang.index_word[t]]))"
      ],
      "execution_count": 30,
      "outputs": []
    },
    {
      "cell_type": "code",
      "metadata": {
        "colab": {
          "base_uri": "https://localhost:8080/"
        },
        "id": "FmJypgD3l3P6",
        "outputId": "a2af65dc-3b6a-466d-a4cb-c8877ace84b1"
      },
      "source": [
        "print (\"Input Language; index to word mapping\")\n",
        "convert(inp_lang, input_tensor_train[0])\n",
        "print ()\n",
        "print (\"Target Language; index to word mapping\")\n",
        "convert(targ_lang, target_tensor_train[0])"
      ],
      "execution_count": 31,
      "outputs": [
        {
          "output_type": "stream",
          "name": "stdout",
          "text": [
            "Input Language; index to word mapping\n",
            "1 ----> <sos>\n",
            "<sos> ----> 1\n",
            "16 ----> we\n",
            "we ----> 16\n",
            "44 ----> know\n",
            "know ----> 44\n",
            "26 ----> your\n",
            "your ----> 26\n",
            "148 ----> life\n",
            "life ----> 148\n",
            "10 ----> s\n",
            "s ----> 10\n",
            "82 ----> been\n",
            "been ----> 82\n",
            "3905 ----> threatened\n",
            "threatened ----> 3905\n",
            "3 ----> .\n",
            ". ----> 3\n",
            "2 ----> <eos>\n",
            "<eos> ----> 2\n",
            "\n",
            "Target Language; index to word mapping\n",
            "1 ----> <sos>\n",
            "<sos> ----> 1\n",
            "100 ----> உன்\n",
            "உன் ----> 100\n",
            "3646 ----> வாழ்வில்\n",
            "வாழ்வில் ----> 3646\n",
            "42 ----> நாங்கள்\n",
            "நாங்கள் ----> 42\n",
            "38 ----> '\n",
            "' ----> 38\n",
            "535 ----> s\n",
            "s ----> 535\n",
            "4868 ----> அச்சுறுத்தினார்\n",
            "அச்சுறுத்தினார் ----> 4868\n",
            "13 ----> என்று\n",
            "என்று ----> 13\n",
            "26 ----> எனக்கு\n",
            "எனக்கு ----> 26\n",
            "44 ----> தெரியும்\n",
            "தெரியும் ----> 44\n",
            "3 ----> .\n",
            ". ----> 3\n",
            "2 ----> <eos>\n",
            "<eos> ----> 2\n"
          ]
        }
      ]
    },
    {
      "cell_type": "code",
      "metadata": {
        "colab": {
          "base_uri": "https://localhost:8080/"
        },
        "id": "TCSWpdefmNaS",
        "outputId": "0d7e0b08-95c3-4ec7-f6b0-3c1dfd522113"
      },
      "source": [
        "# BUFFER_SIZE stores the number of training points\n",
        "BUFFER_SIZE = len(input_tensor_train)\n",
        "\n",
        "# BATCH_SIZE is set to 64. Training and gradient descent happens in batches of 64\n",
        "BATCH_SIZE = 64\n",
        "\n",
        "# the number of batches in one epoch (also, the number of steps during training, when we go batch by batch)\n",
        "steps_per_epoch = BUFFER_SIZE//BATCH_SIZE\n",
        "\n",
        "# the length of the embedded vector\n",
        "embedding_dim = 256\n",
        "\n",
        "# no of GRUs\n",
        "units = 1024\n",
        "\n",
        "# getting the size of the input and output vocabularies.\n",
        "vocab_inp_size = len(inp_lang.word_index)+1\n",
        "vocab_tar_size = len(targ_lang.word_index)+1\n",
        "\n",
        "# now, we shuffle the dataset and split it into batches of 64\n",
        "dataset = tf.data.Dataset.from_tensor_slices((input_tensor_train, target_tensor_train)).shuffle(BUFFER_SIZE)\n",
        "dataset = dataset.batch(BATCH_SIZE, drop_remainder=True) # the remainder after splitting by 64 are dropped\n",
        "\n",
        "print(BUFFER_SIZE)\n",
        "print(BUFFER_SIZE//64)\n",
        "print(steps_per_epoch)\n",
        "print(max_length_targ)\n",
        "print(max_length_inp)"
      ],
      "execution_count": 32,
      "outputs": [
        {
          "output_type": "stream",
          "name": "stdout",
          "text": [
            "20973\n",
            "327\n",
            "327\n",
            "33\n",
            "58\n"
          ]
        }
      ]
    },
    {
      "cell_type": "code",
      "metadata": {
        "colab": {
          "base_uri": "https://localhost:8080/"
        },
        "id": "L2_KlgAMm-ZK",
        "outputId": "c4252b93-3876-438f-b09e-b2b1f8d7b44f"
      },
      "source": [
        "# to understand the shape of an input batch\n",
        "example_input_batch, example_target_batch = next(iter(dataset))\n",
        "example_input_batch.shape, example_target_batch.shape"
      ],
      "execution_count": 33,
      "outputs": [
        {
          "output_type": "execute_result",
          "data": {
            "text/plain": [
              "(TensorShape([64, 58]), TensorShape([64, 33]))"
            ]
          },
          "metadata": {},
          "execution_count": 33
        }
      ]
    },
    {
      "cell_type": "markdown",
      "metadata": {
        "id": "4IJ35HtdpH9P"
      },
      "source": [
        "# **Encoder-Decoder model**\n",
        "\n",
        "The encoder model consists of an embedding layer, a GRU layer with 1024 units.\n",
        "\n",
        "The decoder model consists of a embedding layer, a GRU layer and a dense layer.\n",
        "\n",
        "---\n",
        "![picture](https://drive.google.com/uc?id=1BjzsnC-lcn4GapfGv1hUDDyb68ySS4cW)\n",
        "\n",
        "\n",
        "\n",
        "\n",
        "\n",
        "\n"
      ]
    },
    {
      "cell_type": "code",
      "metadata": {
        "id": "-yyyfnUqqCSJ"
      },
      "source": [
        "class Encoder(tf.keras.Model):\n",
        "  def __init__(self, vocab_size, embedding_dim, enc_units, batch_sz):\n",
        "    super(Encoder, self).__init__()\n",
        "    self.batch_sz = batch_sz # set batch size\n",
        "    self.enc_units = enc_units # set the number of GRU units\n",
        "    self.embedding = tf.keras.layers.Embedding(vocab_size, embedding_dim) # set the embedding layer using the input's vocabulary size and the embedding dimension (which is set to 256)\n",
        "    self.gru = tf.keras.layers.GRU(self.enc_units,\n",
        "                                   return_sequences=True,\n",
        "                                   return_state=True,\n",
        "                                   recurrent_initializer='glorot_uniform') # define the GRU layer\n",
        "\n",
        "  def call(self, x, hidden): # this function is invoked when the function encoder is called with an input and an initialised hidden layer\n",
        "    x = self.embedding(x)\n",
        "    output, state = self.gru(x, initial_state = hidden) # pass input x into the GRU layer\n",
        "    return output, state # function returns the encoder output and the hidden state\n",
        "\n",
        "\n",
        "  def initialize_hidden_state(self): #intialise hidden layer to all zeroes (for determining the shape)\n",
        "    return tf.zeros((self.batch_sz, self.enc_units))"
      ],
      "execution_count": 34,
      "outputs": []
    },
    {
      "cell_type": "code",
      "metadata": {
        "colab": {
          "base_uri": "https://localhost:8080/"
        },
        "id": "Bo28Qbfa0rIX",
        "outputId": "61ab5dba-6828-4599-b83c-339ac34288d0"
      },
      "source": [
        "encoder = Encoder(vocab_inp_size, embedding_dim, units, BATCH_SIZE) # create an Encoder class object\n",
        "\n",
        "# sample input to get a sense of the shapes.\n",
        "sample_hidden = encoder.initialize_hidden_state()\n",
        "sample_output, sample_hidden = encoder(example_input_batch, sample_hidden)\n",
        "print ('Encoder output shape: (batch size, sequence length, units) {}'.format(sample_output.shape))\n",
        "print ('Encoder Hidden state shape: (batch size, units) {}'.format(sample_hidden.shape))"
      ],
      "execution_count": 35,
      "outputs": [
        {
          "output_type": "stream",
          "name": "stdout",
          "text": [
            "Encoder output shape: (batch size, sequence length, units) (64, 58, 1024)\n",
            "Encoder Hidden state shape: (batch size, units) (64, 1024)\n"
          ]
        }
      ]
    },
    {
      "cell_type": "code",
      "metadata": {
        "id": "UEMbTmGW9VT_"
      },
      "source": [
        "class Decoder(tf.keras.Model):\n",
        "  def __init__(self, vocab_size, embedding_dim, dec_units, batch_sz):\n",
        "    super(Decoder, self).__init__()\n",
        "    self.batch_sz = batch_sz # batch_size which is defined as 64\n",
        "    self.dec_units = dec_units # the number of decoder GRU units\n",
        "    self.embedding = tf.keras.layers.Embedding(vocab_size, embedding_dim) # defining an embedding layer for the target language output.\n",
        "    self.gru = tf.keras.layers.GRU(self.dec_units,\n",
        "                                   return_sequences=True,\n",
        "                                   return_state=True,\n",
        "                                   recurrent_initializer='glorot_uniform') # GRU layer\n",
        "    self.fc = tf.keras.layers.Dense(vocab_size)\n",
        "\n",
        "\n",
        "  def call(self, x, hidden):\n",
        "\n",
        "    # x shape after passing through embedding == (batch_size, 1, embedding_dim)\n",
        "    x = self.embedding(x) # creating an embedding layer for the target output\n",
        "\n",
        "    # passing the initial state to the GRU as the hidden state\n",
        "    output, state = self.gru(x, initial_state=hidden)\n",
        "\n",
        "    # output shape == (batch_size * 1, hidden_size)\n",
        "    output = tf.reshape(output, (-1, output.shape[2]))\n",
        "\n",
        "    # output shape == (batch_size, vocab)\n",
        "    x = self.fc(output) # pass the output through the dense layer\n",
        "\n",
        "    return x, state # return decoder output and decoder state"
      ],
      "execution_count": 36,
      "outputs": []
    },
    {
      "cell_type": "code",
      "metadata": {
        "colab": {
          "base_uri": "https://localhost:8080/"
        },
        "id": "R1wvr3Ie9X81",
        "outputId": "454f4d8d-bfa7-47e2-ed6c-54ed78e10e41"
      },
      "source": [
        "decoder = Decoder(vocab_tar_size, embedding_dim, units, BATCH_SIZE)\n",
        "\n",
        "sample_decoder_output, _ = decoder(tf.random.uniform((BATCH_SIZE, 1)),\n",
        "                                      sample_hidden)\n",
        "\n",
        "print ('Decoder output shape: (batch_size, vocab size) {}'.format(sample_decoder_output.shape))"
      ],
      "execution_count": 37,
      "outputs": [
        {
          "output_type": "stream",
          "name": "stdout",
          "text": [
            "Decoder output shape: (batch_size, vocab size) (64, 18591)\n"
          ]
        }
      ]
    },
    {
      "cell_type": "markdown",
      "metadata": {
        "id": "dEniteeTHbjH"
      },
      "source": [
        "# **Training the model**\n",
        "\n",
        "The model is trained on a GPU machine with fixed number of epochs.\n",
        "\n",
        "A custom training loop (instead of Model.Fit etc.) is used for which further reference is available from Tensorflow [here](https://www.tensorflow.org/guide/keras/writing_a_training_loop_from_scratch)\n",
        "\n",
        "The model can be extended with the use of the validation data for early stopping and further fine tuning.\n",
        "\n",
        "Checkpoints are stored for easy retrieval of the model and resue without training"
      ]
    },
    {
      "cell_type": "code",
      "metadata": {
        "id": "erDnU7mw9acE"
      },
      "source": [
        "optimizer = tf.keras.optimizers.Adam()\n",
        "loss_object = tf.keras.losses.SparseCategoricalCrossentropy(\n",
        "    from_logits=True, reduction='none') #Loss function is categorical crossentropy\n",
        "\n",
        "def loss_function(real, pred):\n",
        "  mask = tf.math.logical_not(tf.math.equal(real, 0))\n",
        "  loss_ = loss_object(real, pred)\n",
        "\n",
        "  mask = tf.cast(mask, dtype=loss_.dtype)\n",
        "  loss_ *= mask\n",
        "\n",
        "  return tf.reduce_mean(loss_)"
      ],
      "execution_count": 38,
      "outputs": []
    },
    {
      "cell_type": "code",
      "metadata": {
        "id": "2ryWGXER9goc"
      },
      "source": [
        "checkpoint_dir = './tutorial_checkpoint_nmt'\n",
        "checkpoint_prefix = os.path.join(checkpoint_dir, \"ckpt\")\n",
        "checkpoint = tf.train.Checkpoint(optimizer=optimizer,\n",
        "                                 encoder=encoder,\n",
        "                                 decoder=decoder)"
      ],
      "execution_count": 39,
      "outputs": []
    },
    {
      "cell_type": "code",
      "metadata": {
        "id": "OBBj4-9U9r1R"
      },
      "source": [
        "@tf.function\n",
        "def train_step(inp, targ, enc_hidden):\n",
        "  loss = 0\n",
        "\n",
        "  with tf.GradientTape() as tape:\n",
        "    enc_output, enc_hidden = encoder(inp, enc_hidden)\n",
        "\n",
        "    dec_hidden = enc_hidden\n",
        "\n",
        "    dec_input = tf.expand_dims([targ_lang.word_index['<sos>']] * BATCH_SIZE, 1)\n",
        "\n",
        "    # Teacher forcing - feeding the target as the next input\n",
        "    for t in range(1, targ.shape[1]):\n",
        "      # passing enc_output to the decoder\n",
        "      predictions, dec_hidden = decoder(dec_input, dec_hidden)\n",
        "\n",
        "      loss += loss_function(targ[:, t], predictions)\n",
        "\n",
        "      # using teacher forcing\n",
        "      dec_input = tf.expand_dims(targ[:, t], 1)\n",
        "\n",
        "  batch_loss = (loss / int(targ.shape[1]))\n",
        "\n",
        "  variables = encoder.trainable_variables + decoder.trainable_variables\n",
        "\n",
        "  gradients = tape.gradient(loss, variables)\n",
        "\n",
        "  optimizer.apply_gradients(zip(gradients, variables)) # doing gradient descent\n",
        "\n",
        "  return batch_loss"
      ],
      "execution_count": 40,
      "outputs": []
    },
    {
      "cell_type": "code",
      "metadata": {
        "id": "GF7cJDaHeMkn",
        "colab": {
          "base_uri": "https://localhost:8080/"
        },
        "outputId": "6e6fa9bb-706d-4da8-ff82-50cb7c75d8f7"
      },
      "source": [
        "train = True\n",
        "EPOCHS = 10\n",
        "if train :\n",
        "  for epoch in range(EPOCHS):\n",
        "    start = time.time()\n",
        "\n",
        "    enc_hidden = encoder.initialize_hidden_state()\n",
        "    total_loss = 0\n",
        "\n",
        "    for (batch, (inp, targ)) in enumerate(dataset.take(steps_per_epoch)):\n",
        "      batch_loss = train_step(inp, targ, enc_hidden)\n",
        "      total_loss += batch_loss\n",
        "\n",
        "      if batch % 100 == 0:\n",
        "        print('Epoch {} Batch {} Loss {:.4f}'.format(epoch + 1,\n",
        "                                                    batch,\n",
        "                                                    batch_loss.numpy()))\n",
        "    # saving (checkpoint) the model every 2 epochs\n",
        "    if (epoch + 1) % 2 == 0:\n",
        "      checkpoint.save(file_prefix = checkpoint_prefix)\n",
        "\n",
        "    print('Epoch {} Loss {:.4f}'.format(epoch + 1,\n",
        "                                        total_loss / steps_per_epoch))\n",
        "    print('Time taken for 1 epoch {} sec\\n'.format(time.time() - start))"
      ],
      "execution_count": 41,
      "outputs": [
        {
          "output_type": "stream",
          "name": "stdout",
          "text": [
            "Epoch 1 Batch 0 Loss 2.1692\n",
            "Epoch 1 Batch 100 Loss 1.1193\n",
            "Epoch 1 Batch 200 Loss 1.2925\n",
            "Epoch 1 Batch 300 Loss 1.1142\n",
            "Epoch 1 Loss 1.2767\n",
            "Time taken for 1 epoch 100.11724925041199 sec\n",
            "\n",
            "Epoch 2 Batch 0 Loss 0.9982\n",
            "Epoch 2 Batch 100 Loss 1.1015\n",
            "Epoch 2 Batch 200 Loss 1.0987\n",
            "Epoch 2 Batch 300 Loss 0.9370\n",
            "Epoch 2 Loss 1.0333\n",
            "Time taken for 1 epoch 62.12590718269348 sec\n",
            "\n",
            "Epoch 3 Batch 0 Loss 0.7935\n",
            "Epoch 3 Batch 100 Loss 0.9419\n",
            "Epoch 3 Batch 200 Loss 0.8682\n",
            "Epoch 3 Batch 300 Loss 0.7861\n",
            "Epoch 3 Loss 0.9270\n",
            "Time taken for 1 epoch 60.37980532646179 sec\n",
            "\n",
            "Epoch 4 Batch 0 Loss 0.7570\n",
            "Epoch 4 Batch 100 Loss 0.8736\n",
            "Epoch 4 Batch 200 Loss 0.9535\n",
            "Epoch 4 Batch 300 Loss 0.7835\n",
            "Epoch 4 Loss 0.8284\n",
            "Time taken for 1 epoch 69.85576796531677 sec\n",
            "\n",
            "Epoch 5 Batch 0 Loss 0.7150\n",
            "Epoch 5 Batch 100 Loss 0.7970\n",
            "Epoch 5 Batch 200 Loss 0.6739\n",
            "Epoch 5 Batch 300 Loss 0.7592\n",
            "Epoch 5 Loss 0.7411\n",
            "Time taken for 1 epoch 60.53196406364441 sec\n",
            "\n",
            "Epoch 6 Batch 0 Loss 0.6226\n",
            "Epoch 6 Batch 100 Loss 0.6931\n",
            "Epoch 6 Batch 200 Loss 0.7218\n",
            "Epoch 6 Batch 300 Loss 0.6914\n",
            "Epoch 6 Loss 0.6576\n",
            "Time taken for 1 epoch 66.13137531280518 sec\n",
            "\n",
            "Epoch 7 Batch 0 Loss 0.5245\n",
            "Epoch 7 Batch 100 Loss 0.5828\n",
            "Epoch 7 Batch 200 Loss 0.5934\n",
            "Epoch 7 Batch 300 Loss 0.5481\n",
            "Epoch 7 Loss 0.5658\n",
            "Time taken for 1 epoch 60.20352911949158 sec\n",
            "\n",
            "Epoch 8 Batch 0 Loss 0.4279\n",
            "Epoch 8 Batch 100 Loss 0.4422\n",
            "Epoch 8 Batch 200 Loss 0.5426\n",
            "Epoch 8 Batch 300 Loss 0.5009\n",
            "Epoch 8 Loss 0.4926\n",
            "Time taken for 1 epoch 66.11947345733643 sec\n",
            "\n",
            "Epoch 9 Batch 0 Loss 0.4158\n",
            "Epoch 9 Batch 100 Loss 0.4257\n",
            "Epoch 9 Batch 200 Loss 0.4085\n",
            "Epoch 9 Batch 300 Loss 0.4276\n",
            "Epoch 9 Loss 0.4303\n",
            "Time taken for 1 epoch 60.15118980407715 sec\n",
            "\n",
            "Epoch 10 Batch 0 Loss 0.3502\n",
            "Epoch 10 Batch 100 Loss 0.4145\n",
            "Epoch 10 Batch 200 Loss 0.3720\n",
            "Epoch 10 Batch 300 Loss 0.3815\n",
            "Epoch 10 Loss 0.3711\n",
            "Time taken for 1 epoch 70.89764142036438 sec\n",
            "\n"
          ]
        }
      ]
    },
    {
      "cell_type": "code",
      "metadata": {
        "colab": {
          "base_uri": "https://localhost:8080/"
        },
        "id": "YwgSqCLf_Tht",
        "outputId": "ed3be513-ba6e-4cad-e6f2-476a824b87f4"
      },
      "source": [
        "# restoring the latest checkpoint in checkpoint_dir\n",
        "checkpoint.restore(tf.train.latest_checkpoint(checkpoint_dir))"
      ],
      "execution_count": 42,
      "outputs": [
        {
          "output_type": "execute_result",
          "data": {
            "text/plain": [
              "<tensorflow.python.checkpoint.checkpoint.CheckpointLoadStatus at 0x7e69dc5da230>"
            ]
          },
          "metadata": {},
          "execution_count": 42
        }
      ]
    },
    {
      "cell_type": "markdown",
      "metadata": {
        "id": "aZAFPeCr66Wm"
      },
      "source": [
        "# **Prediction using Greedy Search**\n",
        "\n",
        "Greedy search is used to for Decoding of text."
      ]
    },
    {
      "cell_type": "code",
      "metadata": {
        "id": "IPkwfe6E_Csj"
      },
      "source": [
        "def evaluate(sentence):\n",
        "  sentence = preprocess_sentence(sentence)\n",
        "\n",
        "  inputs = [inp_lang.word_index[i] for i in sentence.split(' ')]\n",
        "  inputs = tf.keras.preprocessing.sequence.pad_sequences([inputs],\n",
        "                                                         maxlen=max_length_inp,\n",
        "                                                         padding='post')\n",
        "  inputs = tf.convert_to_tensor(inputs)\n",
        "\n",
        "  result = ''\n",
        "\n",
        "  hidden = [tf.zeros((1, units))]\n",
        "  enc_out, enc_hidden = encoder(inputs, hidden)\n",
        "\n",
        "  dec_hidden = enc_hidden\n",
        "  dec_input = tf.expand_dims([targ_lang.word_index['<sos>']], 0)\n",
        "\n",
        "  for t in range(max_length_targ):\n",
        "    predictions, dec_hidden = decoder(dec_input,dec_hidden)\n",
        "\n",
        "    # pass the encoder output, decoder hidden state(which is initialised to encoder hidden state for the first time and decoder input to the decoder)\n",
        "    # make a prediction and obtain decoder hidden states\n",
        "\n",
        "    predicted_id = tf.argmax(predictions[0]).numpy()\n",
        "\n",
        "    result += targ_lang.index_word[predicted_id] + ' '\n",
        "\n",
        "    if targ_lang.index_word[predicted_id] == '<eos>':\n",
        "      return result, sentence\n",
        "\n",
        "    # the predicted ID is fed back into the model\n",
        "    dec_input = tf.expand_dims([predicted_id], 0)\n",
        "\n",
        "  return result, sentence"
      ],
      "execution_count": 43,
      "outputs": []
    },
    {
      "cell_type": "code",
      "metadata": {
        "id": "exQRehVR_RR1"
      },
      "source": [
        "def translate(sentence):\n",
        "  result, sentence = evaluate(sentence)\n",
        "\n",
        "  print('Input: %s' % (sentence))\n",
        "  print('Predicted translation: {}'.format(result))\n",
        "\n",
        "  return result"
      ],
      "execution_count": 44,
      "outputs": []
    },
    {
      "cell_type": "code",
      "metadata": {
        "colab": {
          "base_uri": "https://localhost:8080/",
          "height": 108
        },
        "id": "qHcnO2JbFrp7",
        "outputId": "fd8e6746-8755-4a79-e430-5423dbd833c0"
      },
      "source": [
        "translate(\"how are you doing\")"
      ],
      "execution_count": 45,
      "outputs": [
        {
          "output_type": "stream",
          "name": "stdout",
          "text": [
            "Input: <sos> how are you doing <eos>\n",
            "Predicted translation: groans ) நான்ஆனால்மிக , வீர கற்று . . . . . . நீங்கள் ஒரு வாரம் போன்ற ஒரு ' <eos> \n"
          ]
        },
        {
          "output_type": "execute_result",
          "data": {
            "text/plain": [
              "\"groans ) நான்ஆனால்மிக , வீர கற்று . . . . . . நீங்கள் ஒரு வாரம் போன்ற ஒரு ' <eos> \""
            ],
            "application/vnd.google.colaboratory.intrinsic+json": {
              "type": "string"
            }
          },
          "metadata": {},
          "execution_count": 45
        }
      ]
    },
    {
      "cell_type": "code",
      "metadata": {
        "colab": {
          "base_uri": "https://localhost:8080/",
          "height": 142
        },
        "id": "QOFXsr5EanzX",
        "outputId": "e5332abb-93a9-45e0-9ff5-f4d49e7bc1a0"
      },
      "source": [
        "translate(\"I am hungry. Can you give me something to eat.\")"
      ],
      "execution_count": null,
      "outputs": [
        {
          "output_type": "stream",
          "name": "stdout",
          "text": [
            "Input: <sos> i am hungry . can you give me something to eat . <eos>\n",
            "Predicted translation: तीनों गाउन केवल bollocks metrisis अस्तबल 1s मैंडी उत्तरवासी रेप सूर्य लेकिनयहसिर्फजवाबकीतरह सहेजें गुणों होंकी शोक प्रतिबद्धता shatterd shatterdome retto retto महायाजक पासा phone मैला अंधकार पक्का मैंमैंबाहरतकपहुँचनेऔर हज़ार बाल्डविन आणविक माशूका meatballs posses इंसानी नेताओं हथियाएं चक्र चराई थायरॉयड बाढ़ खोजकर पहला तुमऔरमैं हटाता क़ुर्बानी लिविंग lake रोशनी एकातेरिना जरूरत तले इंसानियत विकासवादी फैला काँपने पैडल परे लाचार भिखारी attack सिखाएगा थाएक ओपेरा snarling जोसतहपरलौटनेकेलिए पिकनिक औरवहाँबारेमें हिस्सों \n"
          ]
        },
        {
          "output_type": "execute_result",
          "data": {
            "text/plain": [
              "'तीनों गाउन केवल bollocks metrisis अस्तबल 1s मैंडी उत्तरवासी रेप सूर्य लेकिनयहसिर्फजवाबकीतरह सहेजें गुणों होंकी शोक प्रतिबद्धता shatterd shatterdome retto retto महायाजक पासा phone मैला अंधकार पक्का मैंमैंबाहरतकपहुँचनेऔर हज़ार बाल्डविन आणविक माशूका meatballs posses इंसानी नेताओं हथियाएं चक्र चराई थायरॉयड बाढ़ खोजकर पहला तुमऔरमैं हटाता क़ुर्बानी लिविंग lake रोशनी एकातेरिना जरूरत तले इंसानियत विकासवादी फैला काँपने पैडल परे लाचार भिखारी attack सिखाएगा थाएक ओपेरा snarling जोसतहपरलौटनेकेलिए पिकनिक औरवहाँबारेमें हिस्सों '"
            ],
            "application/vnd.google.colaboratory.intrinsic+json": {
              "type": "string"
            }
          },
          "metadata": {},
          "execution_count": 34
        }
      ]
    },
    {
      "cell_type": "markdown",
      "metadata": {
        "id": "5Tgoxk2BcdBy"
      },
      "source": [
        "# **Calculating BLEU score for evaluation**\n",
        "\n",
        "BLEU score (Bilingual Evaluation Understudy) is calculated on the test data for evaluating the quality of translations"
      ]
    },
    {
      "cell_type": "code",
      "metadata": {
        "colab": {
          "base_uri": "https://localhost:8080/"
        },
        "id": "H4hD3TgDcQ1k",
        "outputId": "c182baa9-5260-4596-a6d5-7ed3038e5f78"
      },
      "source": [
        "test_input_sentences = []\n",
        "test_output_sentences = []\n",
        "\n",
        "for line in open(r'test.en', encoding=\"utf-8\"):\n",
        "\n",
        "    test_input_sentence = line.rstrip().strip(\"\\n\").strip('-')\n",
        "    test_input_sentences.append(test_input_sentence)\n",
        "\n",
        "\n",
        "for line in open(r'test.ta'):\n",
        "    test_output_sentence =  line.rstrip().strip(\"\\n\").strip('-')\n",
        "    line = indic_tokenize.trivial_tokenize(test_output_sentence)\n",
        "\n",
        "    test_output_sentences.append(['<sos>'] + line + ['<eos>'])\n",
        "\n",
        "print(type(test_input_sentences[90]))\n",
        "print(len(test_output_sentences))\n",
        "print(test_input_sentences[90])\n",
        "print(test_output_sentences[90])"
      ],
      "execution_count": 47,
      "outputs": [
        {
          "output_type": "stream",
          "name": "stdout",
          "text": [
            "<class 'str'>\n",
            "1000\n",
            "That's why we risked so much to save you.\n",
            "['<sos>', 'நாங்கள்', 'உன்னை', 'காப்பாற்ற', 'இவ்வளவு', 'ஆபத்தை', 'அதனால்', 'தான்', '.', '<eos>']\n"
          ]
        }
      ]
    },
    {
      "cell_type": "code",
      "metadata": {
        "id": "sbaONTQ_cah7",
        "colab": {
          "base_uri": "https://localhost:8080/"
        },
        "outputId": "3d60e4e9-8c4d-4059-9f42-9dbfa4313ff3"
      },
      "source": [
        "from nltk.translate.bleu_score import corpus_bleu\n",
        "from nltk.translate.bleu_score import SmoothingFunction\n",
        "chencherry = SmoothingFunction()\n",
        "evaluate_n_sentences = 10\n",
        "\n",
        "references = []\n",
        "candidates = []\n",
        "for i in range(evaluate_n_sentences):\n",
        "  try:\n",
        "    res = translate(test_input_sentences[i])\n",
        "    ref = test_output_sentences[i].copy()\n",
        "    ref = [e for e in ref if e not in ('<eos>', '<sos>', '.')]\n",
        "    references.append(ref)\n",
        "    listToStr = ' '.join(map(str, test_output_sentences[i]))\n",
        "    print('Reference Translation: %s' % (listToStr))\n",
        "    candidate = indic_tokenize.trivial_tokenize(res)\n",
        "    candidate = [e for e in candidate if e not in ('<', 'eos','>', '.')]\n",
        "    candidates.append(candidate)\n",
        "  except:\n",
        "    print('Sentence :', i+1, ' not translatable ..moving to next' )\n",
        "score1 = corpus_bleu(references, candidates, smoothing_function=chencherry.method4)\n",
        "score2 = corpus_bleu(references, candidates)\n",
        "print('BLEU score on test data without smoothing function: ' ,score2)\n",
        "print('BLEU score on test data with smoothing function: ' ,score1)"
      ],
      "execution_count": 48,
      "outputs": [
        {
          "output_type": "stream",
          "name": "stdout",
          "text": [
            "Sentence : 1  not translatable ..moving to next\n",
            "Input: <sos> . . you have to make a choice . <eos>\n",
            "Predicted translation: groans ) நான்ஆனால்மிக , வீர கற்று . . . . . . நான் ஒரு சில பைத்தியம் என்று வீட்டில் <eos> \n",
            "Reference Translation: <sos> . . நீங்கள் தேர்வு செய்ய வேண்டும் . <eos>\n",
            "Input: <sos> bitch , you better get your ass outta my office . <eos>\n",
            "Predicted translation: groans ) நான்ஆனால்மிக , வீர கற்று . . . . . . ஒரு ' ஏர் பகுதியில் மந்திரவாதிகளின் உள்ளது . <eos> \n",
            "Reference Translation: <sos> பிட்ச் , நீங்கள் நல்ல உங்கள் என் என் அலுவலக outta . <eos>\n",
            "Input: <sos> and the world would forget about us . <eos>\n",
            "Predicted translation: groans ) நான்ஆனால்மிக , வீர கற்று . . . . . . என்ன ஒரு ' தவறு என்று ? <eos> \n",
            "Reference Translation: <sos> மற்றும் உலக எங்களை பற்றி மறக்க முடியாது . <eos>\n",
            "Sentence : 5  not translatable ..moving to next\n",
            "Input: <sos> this scout ship was one of thousands launched into the void . <eos>\n",
            "Predicted translation: groans ) நான்ஆனால்மிக , வீர கற்று . . . . . . ஒரு ' ஏர் பகுதியில் மந்திரவாதிகளின் உள்ளது . <eos> \n",
            "Reference Translation: <sos> இந்த சாரணர் கப்பல் இருந்தது வெற்றிடத்தை செலுத்தப்படுகின்றன ஆயிரக்கணக்கான ஒன்றாகும் . <eos>\n",
            "Input: <sos> woman singing there s a dark and a troubled side of life <eos>\n",
            "Predicted translation: groans ) நான்ஆனால்மிக , வீர கற்று . . . . . . ஒரு ' ஏர் பகுதியில் மந்திரவாதிகளின் உள்ளது . <eos> \n",
            "Reference Translation: <sos> பெண் : ( பாடல் ) உள்ளதுஒரு இருண்ட மற்றும் ஒரு நான் வாழ்க்கை பதற்றமான பக்க <eos>\n",
            "Sentence : 8  not translatable ..moving to next\n",
            "Input: <sos> there s still fight in them , but i don t know why . <eos>\n",
            "Predicted translation: groans ) நான்ஆனால்மிக , வீர கற்று . . . . . . நான் ஒரு சில காபி எடுக்க வேண்டும் ? <eos> \n",
            "Reference Translation: <sos> இருக்கின்றன , அவற்றில் போராட இன்னும் ஆனால் எனக்கு தெரியாது ஏன் <eos>\n",
            "Sentence : 10  not translatable ..moving to next\n",
            "BLEU score on test data without smoothing function:  8.202720662090001e-232\n",
            "BLEU score on test data with smoothing function:  0.006517981458697316\n"
          ]
        },
        {
          "output_type": "stream",
          "name": "stderr",
          "text": [
            "/usr/local/lib/python3.10/dist-packages/nltk/translate/bleu_score.py:552: UserWarning: \n",
            "The hypothesis contains 0 counts of 2-gram overlaps.\n",
            "Therefore the BLEU score evaluates to 0, independently of\n",
            "how many N-gram overlaps of lower order it contains.\n",
            "Consider using lower n-gram order or use SmoothingFunction()\n",
            "  warnings.warn(_msg)\n",
            "/usr/local/lib/python3.10/dist-packages/nltk/translate/bleu_score.py:552: UserWarning: \n",
            "The hypothesis contains 0 counts of 3-gram overlaps.\n",
            "Therefore the BLEU score evaluates to 0, independently of\n",
            "how many N-gram overlaps of lower order it contains.\n",
            "Consider using lower n-gram order or use SmoothingFunction()\n",
            "  warnings.warn(_msg)\n",
            "/usr/local/lib/python3.10/dist-packages/nltk/translate/bleu_score.py:552: UserWarning: \n",
            "The hypothesis contains 0 counts of 4-gram overlaps.\n",
            "Therefore the BLEU score evaluates to 0, independently of\n",
            "how many N-gram overlaps of lower order it contains.\n",
            "Consider using lower n-gram order or use SmoothingFunction()\n",
            "  warnings.warn(_msg)\n"
          ]
        }
      ]
    },
    {
      "cell_type": "markdown",
      "metadata": {
        "id": "y_rAhbB7GlIq"
      },
      "source": [
        "# *References*\n",
        "\n",
        "1. The dataset used is available from [here](http://lotus.kuee.kyoto-u.ac.jp/WAT/indic-multilingual/)\n",
        "\n",
        "2. Refer the tensorflow tutorials available on NMT [here](https://tensorflow.org/tutorials/text/nmt_with_attention) and [here](https://www.tensorflow.org/addons/tutorials/networks_seq2seq_nmt) for examples on which this notebook is modelled.\n",
        "\n",
        "3. Refer reference code and documentation available [here](https://github.com/prashanthi-r/Eng-Hin-Neural-Machine-Translation) which has been adopted\n",
        "\n",
        "4. Indic Library documentation can be found [here](https://github.com/anoopkunchukuttan/indic_nlp_library/blob/master/docs/indicnlp.pdf)\n",
        "\n",
        "\n",
        "\n",
        "\n",
        "\n",
        "\n"
      ]
    }
  ]
}